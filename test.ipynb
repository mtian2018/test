{
 "cells": [
  {
   "cell_type": "code",
   "execution_count": 1,
   "metadata": {},
   "outputs": [],
   "source": [
    "import gym"
   ]
  },
  {
   "cell_type": "code",
   "execution_count": 2,
   "metadata": {},
   "outputs": [
    {
     "name": "stdout",
     "output_type": "stream",
     "text": [
      "\u001b[33mWARN: gym.spaces.Box autodetected dtype as <class 'numpy.float32'>. Please provide explicit dtype.\u001b[0m\n",
      "Discrete(2)\n",
      "(4,)\n"
     ]
    }
   ],
   "source": [
    "env = gym.make('CartPole-v1')\n",
    "env.reset()\n",
    "print(env.action_space)\n",
    "print(env.observation_space.shape)"
   ]
  },
  {
   "cell_type": "code",
   "execution_count": 215,
   "metadata": {},
   "outputs": [
    {
     "name": "stdout",
     "output_type": "stream",
     "text": [
      "after 126 steps\n",
      "y: tensor([6.9988], grad_fn=<SqueezeBackward3>)\n",
      "0.weight\n",
      "tensor([[ 0.8411,  0.3628,  0.4865,  0.8181],\n",
      "        [-0.4707,  0.2999, -0.1029,  0.2544],\n",
      "        [-0.0641, -0.1948,  0.0051, -0.1089],\n",
      "        [ 0.1826, -0.1949, -0.0365, -0.0450],\n",
      "        [ 0.6402,  0.5657,  1.0048,  0.7233],\n",
      "        [-0.1862, -0.3020, -0.0838, -0.2157],\n",
      "        [ 0.4406,  0.6248,  0.8989,  0.8726],\n",
      "        [-0.6859,  0.1128, -0.0575,  0.2771]])\n",
      "2.weight\n",
      "tensor([[ 0.8684, -0.3221, -0.2251, -0.1705,  0.9041, -0.0589,  0.7641,  0.0078]])\n"
     ]
    }
   ],
   "source": [
    "import torch\n",
    "import torch.nn as nn\n",
    "import pdb\n",
    "\n",
    "torch.manual_seed(1)\n",
    "\n",
    "model = nn.Sequential(\n",
    "    nn.Linear(4, 8, bias=False),\n",
    "#     nn.Dropout(p=0.6),\n",
    "    nn.ReLU(),\n",
    "    nn.Linear(8, 1, bias=False),\n",
    "#     nn.Sigmoid(),\n",
    ")\n",
    "\n",
    "x = torch.ones(4)\n",
    "y0 = torch.tensor(7.)\n",
    "\n",
    "loss_fn = nn.MSELoss()\n",
    "optimizer = torch.optim.Adam(model.parameters(), lr=0.01)\n",
    "\n",
    "optimizer.zero_grad()\n",
    "for i in range(200):\n",
    "\n",
    "    y = model(x)\n",
    "    loss = loss_fn(y, y0)\n",
    "    \n",
    "    if loss.item() < 1e-5:\n",
    "        print(f'after {i} steps')\n",
    "        break\n",
    "      \n",
    "    optimizer.zero_grad()\n",
    "    loss.backward()\n",
    "    optimizer.step()\n",
    "    \n",
    "print('y:', y)\n",
    "for label, value in model.state_dict().items():\n",
    "    print(label)\n",
    "    print(value)"
   ]
  },
  {
   "cell_type": "code",
   "execution_count": 216,
   "metadata": {},
   "outputs": [
    {
     "name": "stdout",
     "output_type": "stream",
     "text": [
      "after 630 steps\n",
      "y: tensor([6.9988], grad_fn=<SqueezeBackward3>)\n",
      "0.weight\n",
      "tensor([[ 0.8411,  0.3628,  0.4865,  0.8181],\n",
      "        [-0.4707,  0.2999, -0.1029,  0.2544],\n",
      "        [-0.0641, -0.1948,  0.0051, -0.1089],\n",
      "        [ 0.1826, -0.1949, -0.0365, -0.0450],\n",
      "        [ 0.6402,  0.5657,  1.0048,  0.7233],\n",
      "        [-0.1862, -0.3020, -0.0838, -0.2157],\n",
      "        [ 0.4406,  0.6248,  0.8989,  0.8726],\n",
      "        [-0.6859,  0.1128, -0.0575,  0.2771]])\n",
      "2.weight\n",
      "tensor([[ 0.8684, -0.3221, -0.2251, -0.1705,  0.9041, -0.0589,  0.7641,  0.0078]])\n"
     ]
    }
   ],
   "source": [
    "import torch\n",
    "import torch.nn as nn\n",
    "import pdb\n",
    "\n",
    "torch.manual_seed(1)\n",
    "\n",
    "model = nn.Sequential(\n",
    "    nn.Linear(4, 8, bias=False),\n",
    "#     nn.Dropout(p=0.6),\n",
    "    nn.ReLU(),\n",
    "    nn.Linear(8, 1, bias=False),\n",
    "#     nn.Sigmoid(),\n",
    ")\n",
    "\n",
    "x = torch.ones(4)\n",
    "y0 = torch.tensor(7.)\n",
    "\n",
    "loss_fn = nn.MSELoss()\n",
    "optimizer = torch.optim.Adam(model.parameters(), lr=0.01)\n",
    "\n",
    "optimizer.zero_grad()\n",
    "for i in range(5000):\n",
    "\n",
    "    y = model(x)\n",
    "    loss = loss_fn(y, y0)\n",
    "    \n",
    "    if loss.item() < 1e-5:\n",
    "        print(f'after {i} steps')\n",
    "        break\n",
    "    \n",
    "    loss.backward()\n",
    "    \n",
    "    if(i+1) % 5 == 0:\n",
    "        optimizer.step()\n",
    "        optimizer.zero_grad()\n",
    "        \n",
    "print('y:', y)\n",
    "for label, value in model.state_dict().items():\n",
    "    print(label)\n",
    "    print(value)  \n"
   ]
  },
  {
   "cell_type": "code",
   "execution_count": null,
   "metadata": {},
   "outputs": [],
   "source": []
  }
 ],
 "metadata": {
  "kernelspec": {
   "display_name": "Python 3",
   "language": "python",
   "name": "python3"
  },
  "language_info": {
   "codemirror_mode": {
    "name": "ipython",
    "version": 3
   },
   "file_extension": ".py",
   "mimetype": "text/x-python",
   "name": "python",
   "nbconvert_exporter": "python",
   "pygments_lexer": "ipython3",
   "version": "3.6.6"
  }
 },
 "nbformat": 4,
 "nbformat_minor": 2
}
